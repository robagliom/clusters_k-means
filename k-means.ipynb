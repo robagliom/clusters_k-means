{
 "cells": [
  {
   "cell_type": "code",
   "execution_count": 59,
   "metadata": {},
   "outputs": [
    {
     "ename": "ValueError",
     "evalue": "could not convert string to float: 'V1'",
     "output_type": "error",
     "traceback": [
      "\u001b[0;31m---------------------------------------------------------------------------\u001b[0m",
      "\u001b[0;31mValueError\u001b[0m                                Traceback (most recent call last)",
      "\u001b[0;32m<ipython-input-59-fee6b65c8520>\u001b[0m in \u001b[0;36m<module>\u001b[0;34m\u001b[0m\n\u001b[1;32m     71\u001b[0m \u001b[0;34m\u001b[0m\u001b[0m\n\u001b[1;32m     72\u001b[0m \u001b[0;32mif\u001b[0m \u001b[0m__name__\u001b[0m \u001b[0;34m==\u001b[0m \u001b[0;34m'__main__'\u001b[0m\u001b[0;34m:\u001b[0m\u001b[0;34m\u001b[0m\u001b[0;34m\u001b[0m\u001b[0m\n\u001b[0;32m---> 73\u001b[0;31m     \u001b[0mselect_clusters\u001b[0m\u001b[0;34m(\u001b[0m\u001b[0mDATASET\u001b[0m\u001b[0;34m,\u001b[0m \u001b[0mLOOPS\u001b[0m\u001b[0;34m,\u001b[0m \u001b[0mMAX_ITERATIONS\u001b[0m\u001b[0;34m,\u001b[0m \u001b[0mINITIALIZE_CLUSTERS\u001b[0m\u001b[0;34m,\u001b[0m\u001b[0mCONVERGENCE_TOLERANCE\u001b[0m\u001b[0;34m,\u001b[0m \u001b[0mNUM_THREADS\u001b[0m\u001b[0;34m)\u001b[0m\u001b[0;34m\u001b[0m\u001b[0;34m\u001b[0m\u001b[0m\n\u001b[0m",
      "\u001b[0;32m<ipython-input-59-fee6b65c8520>\u001b[0m in \u001b[0;36mselect_clusters\u001b[0;34m(dataset, loops, max_iterations, init_cluster, tolerance, num_threads)\u001b[0m\n\u001b[1;32m     52\u001b[0m                     num_threads):\n\u001b[1;32m     53\u001b[0m     \u001b[0;31m# Read data set\u001b[0m\u001b[0;34m\u001b[0m\u001b[0;34m\u001b[0m\u001b[0;34m\u001b[0m\u001b[0m\n\u001b[0;32m---> 54\u001b[0;31m     \u001b[0mpoints\u001b[0m \u001b[0;34m=\u001b[0m \u001b[0mdataset_to_list_points\u001b[0m\u001b[0;34m(\u001b[0m\u001b[0mdataset\u001b[0m\u001b[0;34m)\u001b[0m\u001b[0;34m\u001b[0m\u001b[0;34m\u001b[0m\u001b[0m\n\u001b[0m\u001b[1;32m     55\u001b[0m \u001b[0;34m\u001b[0m\u001b[0m\n\u001b[1;32m     56\u001b[0m     \u001b[0minertia_clusters\u001b[0m \u001b[0;34m=\u001b[0m \u001b[0mlist\u001b[0m\u001b[0;34m(\u001b[0m\u001b[0;34m)\u001b[0m\u001b[0;34m\u001b[0m\u001b[0;34m\u001b[0m\u001b[0m\n",
      "\u001b[0;32m<ipython-input-59-fee6b65c8520>\u001b[0m in \u001b[0;36mdataset_to_list_points\u001b[0;34m(dir_dataset)\u001b[0m\n\u001b[1;32m     35\u001b[0m     \u001b[0;32mwith\u001b[0m \u001b[0mopen\u001b[0m\u001b[0;34m(\u001b[0m\u001b[0mdir_dataset\u001b[0m\u001b[0;34m,\u001b[0m \u001b[0;34m'rt'\u001b[0m\u001b[0;34m)\u001b[0m \u001b[0;32mas\u001b[0m \u001b[0mreader\u001b[0m\u001b[0;34m:\u001b[0m\u001b[0;34m\u001b[0m\u001b[0;34m\u001b[0m\u001b[0m\n\u001b[1;32m     36\u001b[0m         \u001b[0;32mfor\u001b[0m \u001b[0mpoint\u001b[0m \u001b[0;32min\u001b[0m \u001b[0mreader\u001b[0m\u001b[0;34m:\u001b[0m\u001b[0;34m\u001b[0m\u001b[0;34m\u001b[0m\u001b[0m\n\u001b[0;32m---> 37\u001b[0;31m             \u001b[0mpoints\u001b[0m\u001b[0;34m.\u001b[0m\u001b[0mappend\u001b[0m\u001b[0;34m(\u001b[0m\u001b[0mnp\u001b[0m\u001b[0;34m.\u001b[0m\u001b[0masarray\u001b[0m\u001b[0;34m(\u001b[0m\u001b[0mlist\u001b[0m\u001b[0;34m(\u001b[0m\u001b[0mmap\u001b[0m\u001b[0;34m(\u001b[0m\u001b[0mfloat\u001b[0m\u001b[0;34m,\u001b[0m \u001b[0mpoint\u001b[0m\u001b[0;34m.\u001b[0m\u001b[0msplit\u001b[0m\u001b[0;34m(\u001b[0m\u001b[0;34m\"::\"\u001b[0m\u001b[0;34m)\u001b[0m\u001b[0;34m)\u001b[0m\u001b[0;34m)\u001b[0m\u001b[0;34m)\u001b[0m\u001b[0;34m)\u001b[0m\u001b[0;34m\u001b[0m\u001b[0;34m\u001b[0m\u001b[0m\n\u001b[0m\u001b[1;32m     38\u001b[0m     \u001b[0;32mreturn\u001b[0m \u001b[0mpoints\u001b[0m\u001b[0;34m\u001b[0m\u001b[0;34m\u001b[0m\u001b[0m\n\u001b[1;32m     39\u001b[0m \u001b[0;34m\u001b[0m\u001b[0m\n",
      "\u001b[0;31mValueError\u001b[0m: could not convert string to float: 'V1'"
     ]
    }
   ],
   "source": [
    "#Vamos a utilizar el arlgoritmo k-means\n",
    "#Primero usamos method  Elbow para elegir el valor de k (en caso de no saberlo)\n",
    "#Generamos gráfica para ver el k en el que está el punto codo\n",
    "\n",
    "# -*- coding: utf-8 -*-\n",
    "# Method Elbow: utilizo función de 'RicardoMoya' (https://jarroba.com/seleccion-del-numero-optimo-clusters/)\n",
    "\n",
    "#Importamos librerías\n",
    "\n",
    "%matplotlib inline\n",
    "from copy import deepcopy\n",
    "import numpy as np\n",
    "import pandas as pd\n",
    "from matplotlib import pyplot as plt\n",
    "plt.rcParams['figure.figsize'] = (16, 9)\n",
    "plt.style.use('ggplot')\n",
    "import matplotlib.pyplot as pyplt\n",
    "from sklearn.cluster import KMeans\n",
    "\n",
    "# Constant\n",
    "DATASET = \"dataset1.txt\"\n",
    "\n",
    "LOOPS = 20\n",
    "MAX_ITERATIONS = 10\n",
    "INITIALIZE_CLUSTERS = 'k-means++'\n",
    "CONVERGENCE_TOLERANCE = 0.001\n",
    "NUM_THREADS = 8\n",
    "\n",
    "def dataset_to_list_points(dir_dataset):\n",
    "    \"\"\"\n",
    "    Read a txt file with a set of points and return a list of objects Point\n",
    "    :param dir_dataset:\n",
    "    \"\"\"\n",
    "    points = list()\n",
    "    with open(dir_dataset, 'rt') as reader:\n",
    "        for point in reader:\n",
    "            points.append(np.asarray(list(map(float, point.split(\"::\")))))\n",
    "    return points\n",
    "\n",
    "\n",
    "def plot_results(inertials):\n",
    "    x, y = zip(*[inertia for inertia in inertials])\n",
    "    #print(x,y)\n",
    "    plt.plot(x, y, 'ro-', markersize=8, lw=2)\n",
    "    plt.grid(True)\n",
    "    plt.xlabel('Num Clusters')\n",
    "    plt.ylabel('Inertia')\n",
    "    plt.show()\n",
    "\n",
    "\n",
    "def select_clusters(dataset, loops, max_iterations, init_cluster, tolerance,\n",
    "                    num_threads):\n",
    "    # Read data set\n",
    "    points = dataset_to_list_points(dataset)\n",
    "\n",
    "    inertia_clusters = list()\n",
    "\n",
    "    for i in range(1, loops + 1, 1):\n",
    "        # Object KMeans\n",
    "        kmeans = KMeans(n_clusters=i, max_iter=max_iterations,\n",
    "                        init=init_cluster, tol=tolerance, n_jobs=num_threads)\n",
    "\n",
    "        # Calculate Kmeans\n",
    "        kmeans.fit(points)\n",
    "\n",
    "        # Obtain inertia\n",
    "        inertia_clusters.append([i, kmeans.inertia_])\n",
    "\n",
    "    plot_results(inertia_clusters)\n",
    "\n",
    "\n",
    "if __name__ == '__main__':\n",
    "    select_clusters(DATASET, LOOPS, MAX_ITERATIONS, INITIALIZE_CLUSTERS,CONVERGENCE_TOLERANCE, NUM_THREADS)"
   ]
  },
  {
   "cell_type": "code",
   "execution_count": null,
   "metadata": {},
   "outputs": [],
   "source": [
    "#Tomamos k=3 porque hay punto codo\n",
    "#Número de clusters:\n",
    "k=3"
   ]
  },
  {
   "cell_type": "code",
   "execution_count": null,
   "metadata": {},
   "outputs": [],
   "source": [
    "#Importamos el dataset\n",
    "#data = np.loadtxt('dataset.txt',delimiter='::')\n",
    "data = pd.read_csv('dataset.txt',delimiter='::')\n",
    "print(data.shape)\n",
    "data.head()\n",
    "#print(data)"
   ]
  },
  {
   "cell_type": "code",
   "execution_count": null,
   "metadata": {},
   "outputs": [],
   "source": [
    "# Getting the values and plotting it\n",
    "f1 = data['V1'].values\n",
    "f2 = data['V2'].values\n",
    "X = np.array(list(zip(f1, f2)))\n",
    "plt.scatter(f1, f2, c='black', s=7)"
   ]
  },
  {
   "cell_type": "code",
   "execution_count": null,
   "metadata": {},
   "outputs": [],
   "source": [
    "#Calcular distancia euclideana\n",
    "def dist(a, b, ax=1):\n",
    "    return np.linalg.norm(a - b, axis=ax)"
   ]
  },
  {
   "cell_type": "code",
   "execution_count": null,
   "metadata": {},
   "outputs": [],
   "source": [
    "#print(np.max(X))\n",
    "# X coordenadas de centroides aleatorios\n",
    "C_x = np.random.randint(0, np.max(X), size=k)\n",
    "# Y coordenadas de centroides aleatorios\n",
    "C_y = np.random.randint(0, np.max(X), size=k)\n",
    "C = np.array(list(zip(C_x, C_y)), dtype=np.float32)\n",
    "print(C)"
   ]
  },
  {
   "cell_type": "code",
   "execution_count": null,
   "metadata": {},
   "outputs": [],
   "source": [
    "#Dibujamos centroides junto con valores\n",
    "plt.scatter(f1, f2, c='#050505', s=7)\n",
    "plt.scatter(C_x, C_y, marker='*', s=200, c='g')"
   ]
  },
  {
   "cell_type": "code",
   "execution_count": null,
   "metadata": {},
   "outputs": [],
   "source": [
    "#Para guardar el valor de los centroides cuando se actualiza\n",
    "C_old = np.zeros(C.shape)\n",
    "# Cluster Lables(0, 1, 2)\n",
    "clusters = np.zeros(len(X))\n",
    "# Error func. - Distance entre nuevos centroides y viejos centroides\n",
    "error = dist(C, C_old, None)\n",
    "# Loop se ejecuta hasta que el error sea cero\n",
    "while error != 0:\n",
    "    # Asignamos cada valor a su cluster mas cercano\n",
    "    for i in range(len(X)):\n",
    "        distances = dist(X[i], C)\n",
    "        cluster = np.argmin(distances)\n",
    "        clusters[i] = cluster\n",
    "    # Almaceno los antiguos valores del centroide\n",
    "    C_old = deepcopy(C)\n",
    "    # Buscamos nuevos centroides\n",
    "    for i in range(k):\n",
    "        points = [X[j] for j in range(len(X)) if clusters[j] == i]\n",
    "        C[i] = np.mean(points, axis=0)\n",
    "    error = dist(C, C_old, None)"
   ]
  },
  {
   "cell_type": "code",
   "execution_count": null,
   "metadata": {},
   "outputs": [],
   "source": [
    "colors = ['r', 'g', 'b', 'y', 'c', 'm']\n",
    "fig, ax = plt.subplots()\n",
    "for i in range(k):\n",
    "        points = np.array([X[j] for j in range(len(X)) if clusters[j] == i])\n",
    "        ax.scatter(points[:, 0], points[:, 1], s=7, c=colors[i])\n",
    "ax.scatter(C[:, 0], C[:, 1], marker='*', s=200, c='#050505')"
   ]
  },
  {
   "cell_type": "code",
   "execution_count": null,
   "metadata": {},
   "outputs": [],
   "source": []
  }
 ],
 "metadata": {
  "kernelspec": {
   "display_name": "Python 3",
   "language": "python",
   "name": "python3"
  },
  "language_info": {
   "codemirror_mode": {
    "name": "ipython",
    "version": 3
   },
   "file_extension": ".py",
   "mimetype": "text/x-python",
   "name": "python",
   "nbconvert_exporter": "python",
   "pygments_lexer": "ipython3",
   "version": "3.6.7"
  }
 },
 "nbformat": 4,
 "nbformat_minor": 2
}
